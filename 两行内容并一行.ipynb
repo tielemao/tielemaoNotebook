{
 "cells": [
  {
   "cell_type": "code",
   "execution_count": 1,
   "metadata": {},
   "outputs": [
    {
     "name": "stdout",
     "output_type": "stream",
     "text": [
      "['1\\n', '123\\n', '2\\n', '234\\n', '3\\n', '345\\n', '4\\n', '567\\n']\n"
     ]
    }
   ],
   "source": [
    "with open('test.txt', 'r') as f:\n",
    "    lines = list(f)"
   ]
  },
  {
   "cell_type": "code",
   "execution_count": 10,
   "metadata": {},
   "outputs": [
    {
     "name": "stdout",
     "output_type": "stream",
     "text": [
      "['1', ' 123\\n', '2', ' 234\\n', '3', ' 345\\n', '4', ' 567\\n']\n"
     ]
    },
    {
     "data": {
      "text/plain": [
       "'1 123\\n2 234\\n3 345\\n4 567\\n'"
      ]
     },
     "execution_count": 10,
     "metadata": {},
     "output_type": "execute_result"
    }
   ],
   "source": [
    "for index in range(len(lines)):\n",
    "    if index % 2 == 0:\n",
    "        i = lines[index]\n",
    "        lines[index] = i.strip()\n",
    "    else:\n",
    "        k = lines[index]\n",
    "        lines[index] = ' ' + k\n",
    "line = \"\".join(lines)"
   ]
  },
  {
   "cell_type": "code",
   "execution_count": 11,
   "metadata": {},
   "outputs": [],
   "source": [
    "with open('test2.txt', 'w') as f:\n",
    "    f.write(line)"
   ]
  }
 ],
 "metadata": {
  "kernelspec": {
   "display_name": "Python 3",
   "language": "python",
   "name": "python3"
  },
  "language_info": {
   "codemirror_mode": {
    "name": "ipython",
    "version": 3
   },
   "file_extension": ".py",
   "mimetype": "text/x-python",
   "name": "python",
   "nbconvert_exporter": "python",
   "pygments_lexer": "ipython3",
   "version": "3.7.1"
  }
 },
 "nbformat": 4,
 "nbformat_minor": 2
}
